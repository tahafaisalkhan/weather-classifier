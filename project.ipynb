{
 "cells": [
  {
   "cell_type": "markdown",
   "metadata": {},
   "source": [
    "# Data Cleaning and Visualisation"
   ]
  },
  {
   "cell_type": "markdown",
   "metadata": {},
   "source": [
    "EDA process includes:\n",
    "\n",
    "- Removing Duplicates\n",
    "- Fixing Values\n",
    "- Normalizing if needed\n",
    "- Cleaning Outliers\n",
    "- Looking a feature distribution\n",
    "- Seperating into categorical and numerical columns\n",
    "- Visualizing Data"
   ]
  }
 ],
 "metadata": {
  "language_info": {
   "name": "python"
  },
  "orig_nbformat": 4
 },
 "nbformat": 4,
 "nbformat_minor": 2
}
